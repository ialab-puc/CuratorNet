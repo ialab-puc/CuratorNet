{
 "cells": [
  {
   "cell_type": "code",
   "execution_count": null,
   "metadata": {
    "scrolled": false
   },
   "outputs": [],
   "source": [
    "import os\n",
    "import sys"
   ]
  },
  {
   "cell_type": "code",
   "execution_count": null,
   "metadata": {},
   "outputs": [],
   "source": [
    "module_path = os.path.abspath(os.path.join('../src'))\n",
    "if module_path not in sys.path:\n",
    "    sys.path.append(module_path)   \n",
    "\n",
    "from ExperimentUtils import list_filepaths, filter_regex\n",
    "from DataframesUtils import DataframesMetricsManager, _TransactionsHandler\n",
    "import LatexUtils"
   ]
  },
  {
   "cell_type": "code",
   "execution_count": null,
   "metadata": {},
   "outputs": [],
   "source": [
    "all_keys = list_filepaths('../results/')"
   ]
  },
  {
   "cell_type": "code",
   "execution_count": null,
   "metadata": {},
   "outputs": [],
   "source": [
    "len(all_keys)"
   ]
  },
  {
   "cell_type": "code",
   "execution_count": null,
   "metadata": {},
   "outputs": [],
   "source": [
    "file2name = dict()"
   ]
  },
  {
   "cell_type": "code",
   "execution_count": null,
   "metadata": {},
   "outputs": [],
   "source": [
    "for key in all_keys:\n",
    "    file2name[key] =\\\n",
    "        (key[:-4] if key.endswith('.csv') else key)\\\n",
    "            .replace(os.path.sep,'_')"
   ]
  },
  {
   "cell_type": "code",
   "execution_count": null,
   "metadata": {
    "scrolled": false
   },
   "outputs": [],
   "source": [
    "DataframesMetricsManager.set_value_func('customer_gb', DataframesMetricsManager.get_customer_groupby)\n",
    "DataframesMetricsManager.set_void_func('set_rec_ids_list_column', DataframesMetricsManager.set_rec_ids_list_column)\n",
    "DataframesMetricsManager.set_void_func('set_gt_idxs_list_column', DataframesMetricsManager.set_gt_idxs_list_column)\n",
    "DataframesMetricsManager.set_void_func('set_last_purchase_column', DataframesMetricsManager.set_last_purchase_column)\n",
    "DataframesMetricsManager.set_void_func('set_auc_column', DataframesMetricsManager.set_auc_column)\n",
    "for k in (10, 20, 40, 50, 60, 100):\n",
    "    DataframesMetricsManager.set_void_func('set_prec_at%d_column' % k, DataframesMetricsManager.set_prec_column, k)\n",
    "    DataframesMetricsManager.set_void_func('set_rec_at%d_column' % k, DataframesMetricsManager.set_rec_column, k)\n",
    "    DataframesMetricsManager.set_void_func('set_f1_at%d_column' % k, DataframesMetricsManager.set_f1_column, k)\n",
    "    DataframesMetricsManager.set_void_func('set_ndcg_at%d_column' % k, DataframesMetricsManager.set_ndcg_column, k)\n",
    "    DataframesMetricsManager.set_void_func('set_ap_at%d_column' % k, DataframesMetricsManager.set_ap_column, k)\n",
    "    DataframesMetricsManager.set_void_func('set_rr_at%d_column' % k, DataframesMetricsManager.set_rr_column, k)\n",
    "\n",
    "DataframesMetricsManager.set_metric_func('auc', DataframesMetricsManager.get_auc)\n",
    "DataframesMetricsManager.set_metric_func('auc_last', DataframesMetricsManager.get_auc__last_purchase)\n",
    "for k in (10, 20, 40, 50, 60, 100):\n",
    "    DataframesMetricsManager.set_metric_func('prec_at%d' % k, DataframesMetricsManager.get_precision, k)\n",
    "    DataframesMetricsManager.set_metric_func('rec_at%d' % k, DataframesMetricsManager.get_recall, k)\n",
    "    DataframesMetricsManager.set_metric_func('f1sc_at%d' % k, DataframesMetricsManager.get_f1score, k)\n",
    "    DataframesMetricsManager.set_metric_func('ndcg_at%d' % k, DataframesMetricsManager.get_ndcg, k)\n",
    "    DataframesMetricsManager.set_metric_func('map_at%d' % k, DataframesMetricsManager.get_map, k)\n",
    "    DataframesMetricsManager.set_metric_func('mrr_at%d' % k, DataframesMetricsManager.get_mrr, k)\n",
    "    DataframesMetricsManager.set_metric_func('prec_at%d_last' % k, DataframesMetricsManager.get_precision__last_purchase, k)\n",
    "    DataframesMetricsManager.set_metric_func('rec_at%d_last' % k, DataframesMetricsManager.get_recall__last_purchase, k)\n",
    "    DataframesMetricsManager.set_metric_func('f1sc_at%d_last' % k, DataframesMetricsManager.get_f1score__last_purchase, k)\n",
    "    DataframesMetricsManager.set_metric_func('ndcg_at%d_last' % k, DataframesMetricsManager.get_ndcg__last_purchase, k)\n",
    "    DataframesMetricsManager.set_metric_func('map_at%d_last' % k, DataframesMetricsManager.get_map__last_purchase, k)\n",
    "    DataframesMetricsManager.set_metric_func('mrr_at%d_last' % k, DataframesMetricsManager.get_mrr__last_purchase, k)"
   ]
  },
  {
   "cell_type": "code",
   "execution_count": null,
   "metadata": {},
   "outputs": [],
   "source": [
    "def print_summary_table_regex(regexp, metric_names, comp_metric_name, **kwargs):\n",
    "    filtered_keys = filter_regex(all_keys, regexp)\n",
    "    LatexUtils.print_summary_table(filtered_keys, metric_names, comp_metric_name, DataframesMetricsManager,\n",
    "                                   file2name, **kwargs)"
   ]
  },
  {
   "cell_type": "code",
   "execution_count": null,
   "metadata": {},
   "outputs": [],
   "source": [
    "print_summary_table_regex('.*', ['auc_last', 'rec_at100'], 'auc_last', floatfmt='.6f')"
   ]
  }
 ],
 "metadata": {
  "kernelspec": {
   "display_name": "CuratorNetKernel",
   "language": "python",
   "name": "curatornetkernel"
  },
  "language_info": {
   "codemirror_mode": {
    "name": "ipython",
    "version": 3
   },
   "file_extension": ".py",
   "mimetype": "text/x-python",
   "name": "python",
   "nbconvert_exporter": "python",
   "pygments_lexer": "ipython3",
   "version": "3.5.2"
  }
 },
 "nbformat": 4,
 "nbformat_minor": 2
}
