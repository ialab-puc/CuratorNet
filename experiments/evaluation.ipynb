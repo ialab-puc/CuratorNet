{
 "cells": [
  {
   "cell_type": "code",
   "execution_count": null,
   "metadata": {},
   "outputs": [],
   "source": [
    "import os\n",
    "import sys"
   ]
  },
  {
   "cell_type": "code",
   "execution_count": null,
   "metadata": {},
   "outputs": [],
   "source": [
    "module_path = os.path.abspath(os.path.join('../src'))\n",
    "if module_path not in sys.path:\n",
    "    sys.path.append(module_path)\n",
    "\n",
    "from Classes import Customer, ProfileBase\n",
    "from ExperimentUtils import sanity_check_purchase_upload_events, recommendations_to_csv,\\\n",
    "        run_personalized_recommendation_experiment\n",
    "from TransactionsUtils import TransactionsHandler\n",
    "from FeatureUtils import read_numpy_features_matrix"
   ]
  },
  {
   "cell_type": "code",
   "execution_count": null,
   "metadata": {},
   "outputs": [],
   "source": [
    "os.environ['CUDA_VISIBLE_DEVICES'] = '1'"
   ]
  },
  {
   "cell_type": "code",
   "execution_count": null,
   "metadata": {},
   "outputs": [],
   "source": [
    "tmp = read_numpy_features_matrix('./curatornet_10m/', 'item_vectors.npy', 'ids')\n",
    "item_embeddings = tmp['features']\n",
    "id2index = tmp['id2index']\n",
    "index2id = tmp['index2id']"
   ]
  },
  {
   "cell_type": "code",
   "execution_count": null,
   "metadata": {},
   "outputs": [],
   "source": [
    "item_embeddings.shape"
   ]
  },
  {
   "cell_type": "code",
   "execution_count": null,
   "metadata": {},
   "outputs": [],
   "source": [
    "ids_with_features = set(index2id)\n",
    "len(ids_with_features)"
   ]
  },
  {
   "cell_type": "code",
   "execution_count": null,
   "metadata": {},
   "outputs": [],
   "source": [
    "artworks_dict = TransactionsHandler.artworks_dict"
   ]
  },
  {
   "cell_type": "code",
   "execution_count": null,
   "metadata": {},
   "outputs": [],
   "source": [
    "customers_dict = { cid : Customer() for cid in TransactionsHandler.sales_df.user_id_hash.unique() }"
   ]
  },
  {
   "cell_type": "code",
   "execution_count": null,
   "metadata": {},
   "outputs": [],
   "source": [
    "# ---- upload events -----\n",
    "upload_events = TransactionsHandler.upload_events\n",
    "\n",
    "# ---- purchase events -----\n",
    "purchase_session_events = TransactionsHandler.purchase_session_events\n",
    "\n",
    "# distribute purchases among customers\n",
    "for pe in purchase_session_events:\n",
    "    customers_dict[pe.customer_id].append_purchase_session(pe)\n",
    "\n",
    "# --- join events and sort by timestamp ----\n",
    "time_events = upload_events + purchase_session_events\n",
    "time_events.sort(key=lambda x : x.timestamp)"
   ]
  },
  {
   "cell_type": "code",
   "execution_count": null,
   "metadata": {},
   "outputs": [],
   "source": [
    "print(\"len(upload_events) = \", len(upload_events))\n",
    "print(\"len(purchase_session_events) = \", len(purchase_session_events))\n",
    "print(\"len(time_events) = \", len(time_events))"
   ]
  },
  {
   "cell_type": "code",
   "execution_count": null,
   "metadata": {},
   "outputs": [],
   "source": [
    "sanity_check_purchase_upload_events(time_events, artworks_dict)"
   ]
  },
  {
   "cell_type": "code",
   "execution_count": null,
   "metadata": {},
   "outputs": [],
   "source": [
    "REC_SIZE = 10\n",
    "MAX_PROFILE_SIZES = [None]\n",
    "MAX_PROFILE_TAGS = ['_(maxprofsize=oo)' if size is None else ('_(maxprofsize=%d)' % size)\n",
    "                                                                for size in MAX_PROFILE_SIZES]"
   ]
  },
  {
   "cell_type": "code",
   "execution_count": null,
   "metadata": {},
   "outputs": [],
   "source": [
    "MAX_PROFILE_SIZES, MAX_PROFILE_TAGS"
   ]
  },
  {
   "cell_type": "code",
   "execution_count": null,
   "metadata": {},
   "outputs": [],
   "source": [
    "class CuratorNetProfile(ProfileBase):\n",
    "    # --- global -----        \n",
    "    @classmethod\n",
    "    def global_purchase_session_event_handler(cls, purch_sess):\n",
    "        pass\n",
    "\n",
    "    # --- instance ----    \n",
    "    def __init__(self, maxprofsize, artworks_dict, network, sess):\n",
    "        ProfileBase.__init__(self, maxprofsize, artworks_dict)\n",
    "        self._network = network\n",
    "        self._sess = sess\n",
    "    def ready(self):\n",
    "        return len(self.consumed_artworks) > 0    \n",
    "    def handle_artwork_added(self, artwork):\n",
    "        pass        \n",
    "    def handle_artwork_removed(self, artwork):\n",
    "        pass\n",
    "    def rank_inventory_ids(self, inventory_artworks):\n",
    "        profile_indexes = [id2index[a.id] for a in self.consumed_artworks]\n",
    "        inventory_indexes = [id2index[a.id] for a in inventory_artworks]\n",
    "        match_scores = self._network.get_match_scores(self._sess,\n",
    "            item_embeddings, profile_indexes, inventory_indexes)\n",
    "        pairs = [(s,i) for s,i in zip(match_scores, inventory_indexes)]\n",
    "        pairs.sort(reverse=True)\n",
    "        return [index2id[p[1]] for p in pairs]"
   ]
  },
  {
   "cell_type": "code",
   "execution_count": null,
   "metadata": {},
   "outputs": [],
   "source": [
    "import tensorflow as tf\n",
    "from Networks import CuratorNet_Evaluation"
   ]
  },
  {
   "cell_type": "code",
   "execution_count": null,
   "metadata": {},
   "outputs": [],
   "source": [
    "def run_experiments(artworks_dict, customers_dict, time_events, checkpoint_path, version, version_kwargs, version_alias=None):\n",
    "    if version_alias is None:\n",
    "        version_alias = version\n",
    "    with tf.Graph().as_default():\n",
    "        network = CuratorNet_Evaluation(**version_kwargs)\n",
    "        gpu_options = tf.GPUOptions(\n",
    "            per_process_gpu_memory_fraction=0.99,\n",
    "            allow_growth=True\n",
    "        )\n",
    "        config = tf.ConfigProto(gpu_options=gpu_options)\n",
    "        with tf.Session(config=config) as sess:\n",
    "            saver = tf.train.Saver()\n",
    "            saver.restore(sess, tf.train.latest_checkpoint(checkpoint_path))\n",
    "            for maxprofsize, maxproftag in zip(MAX_PROFILE_SIZES, MAX_PROFILE_TAGS):\n",
    "                create_profile_func = lambda _: CuratorNetProfile(maxprofsize, artworks_dict, network, sess)\n",
    "                recommendations = run_personalized_recommendation_experiment(\n",
    "                    artworks_dict, customers_dict, time_events, create_profile_func, rec_size=REC_SIZE)\n",
    "                recommendations_to_csv(\n",
    "                    recommendations,\n",
    "                    (\"../results/@{}{}_{}.csv\").format(\n",
    "                        REC_SIZE, maxproftag, version_alias))"
   ]
  },
  {
   "cell_type": "code",
   "execution_count": null,
   "metadata": {},
   "outputs": [],
   "source": [
    "version = 'curatornet_resnet_10m'\n",
    "version"
   ]
  },
  {
   "cell_type": "code",
   "execution_count": null,
   "metadata": {},
   "outputs": [],
   "source": [
    "run_experiments(artworks_dict, customers_dict, time_events,\n",
    "                checkpoint_path='./curatornet_10m/',\n",
    "                version=version,\n",
    "                version_kwargs=dict(\n",
    "                    user_layer_units=[300,300,200],\n",
    "                    latent_space_dim=200,\n",
    "                    profile_pooling_mode='AVG+MAX',\n",
    "                ))"
   ]
  }
 ],
 "metadata": {
  "kernelspec": {
   "display_name": "CuratorNetKernel",
   "language": "python",
   "name": "curatornetkernel"
  },
  "language_info": {
   "codemirror_mode": {
    "name": "ipython",
    "version": 3
   },
   "file_extension": ".py",
   "mimetype": "text/x-python",
   "name": "python",
   "nbconvert_exporter": "python",
   "pygments_lexer": "ipython3",
   "version": "3.5.2"
  }
 },
 "nbformat": 4,
 "nbformat_minor": 2
}
